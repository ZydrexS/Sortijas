{
  "nbformat": 4,
  "nbformat_minor": 0,
  "metadata": {
    "colab": {
      "name": "MidtermExam.ipynb",
      "provenance": [],
      "authorship_tag": "ABX9TyM/gH+QVEkJCyRjSVKVTw22",
      "include_colab_link": true
    },
    "kernelspec": {
      "name": "python3",
      "display_name": "Python 3"
    },
    "language_info": {
      "name": "python"
    }
  },
  "cells": [
    {
      "cell_type": "markdown",
      "metadata": {
        "id": "view-in-github",
        "colab_type": "text"
      },
      "source": [
        "<a href=\"https://colab.research.google.com/github/ZydrexS/Sortijas/blob/main/MidtermExam.ipynb\" target=\"_parent\"><img src=\"https://colab.research.google.com/assets/colab-badge.svg\" alt=\"Open In Colab\"/></a>"
      ]
    },
    {
      "cell_type": "markdown",
      "metadata": {
        "id": "_zCFQbCE4Yto"
      },
      "source": [
        "#MIDTERM EXAM\n"
      ]
    },
    {
      "cell_type": "markdown",
      "metadata": {
        "id": "n-w00g47VWPE"
      },
      "source": [
        "#Problem Statement 1\n"
      ]
    },
    {
      "cell_type": "code",
      "metadata": {
        "colab": {
          "base_uri": "https://localhost:8080/"
        },
        "id": "cYFg--OTVZM8",
        "outputId": "b42d076e-e90b-48aa-b6c5-7920b7b8fecc"
      },
      "source": [
        "print(\"Zydrex John Ramos Sortijas\") #a. Full name\n",
        "print(\"202014934\") #b. Student Number\n",
        "print(\"20\") #c. Age\n",
        "print(\"November 20, 2001\") #d. Birthday\n",
        "print(\"#204 Dr. V Solis St. Julugan I Tanza, Cavite\") #e. Address\n",
        "print(\"Bachelor of Science in Electronics and Communication Engineering\") #f. Course\n",
        "print(\"1.65\") #g. Last Sem GWA"
      ],
      "execution_count": 1,
      "outputs": [
        {
          "output_type": "stream",
          "name": "stdout",
          "text": [
            "Zydrex John Ramos Sortijas\n",
            "202014934\n",
            "20\n",
            "November 20, 2001\n",
            "#204 Dr. V Solis St. Julugan I Tanza, Cavite\n",
            "Bachelor of Science in Electronics and Communication Engineering\n",
            "1.65\n"
          ]
        }
      ]
    },
    {
      "cell_type": "markdown",
      "metadata": {
        "id": "5okF-JEmW1Ab"
      },
      "source": [
        "#Problem Statement 2"
      ]
    },
    {
      "cell_type": "code",
      "metadata": {
        "colab": {
          "base_uri": "https://localhost:8080/"
        },
        "id": "J-v-m75VW36i",
        "outputId": "9db36646-5313-411a-c1e8-2b4fdeaae939"
      },
      "source": [
        "n=4\n",
        "answ=\"Y\"\n",
        "print(2<n and n<6)\n",
        "print(2<n or n==6)\n",
        "print(not 2<n and n==6)\n",
        "print(not n<6)\n",
        "print(answ==\"Y\" or answ==\"y\")\n",
        "print(answ==\"Y\" and answ==\"y\")\n",
        "print(not answ==\"y\")\n",
        "print((2<n and n==5+1)or answ==\"No\")\n",
        "print((n==2 and n==7) or answ==\"Y\")\n",
        "print(n==2 and (n==7 or answ==\"Y\"))"
      ],
      "execution_count": 17,
      "outputs": [
        {
          "output_type": "stream",
          "name": "stdout",
          "text": [
            "True\n",
            "True\n",
            "False\n",
            "False\n",
            "True\n",
            "False\n",
            "True\n",
            "False\n",
            "True\n",
            "False\n"
          ]
        }
      ]
    },
    {
      "cell_type": "markdown",
      "metadata": {
        "id": "TVKLVPFcaIfX"
      },
      "source": [
        "#Problem Statement 3"
      ]
    },
    {
      "cell_type": "code",
      "metadata": {
        "id": "wBcr3gaoaLYG"
      },
      "source": [
        "x=2\n",
        "y=-3\n",
        "w=7\n",
        "z=-10\n"
      ],
      "execution_count": 12,
      "outputs": []
    },
    {
      "cell_type": "code",
      "metadata": {
        "colab": {
          "base_uri": "https://localhost:8080/"
        },
        "id": "tDG2J3hjb-s9",
        "outputId": "4f66746a-379b-4b11-ce6e-f128c0651853"
      },
      "source": [
        "print(x/y)\n",
        "print(w/y/x)\n",
        "print(z/y%x)\n",
        "print(x%-y*w) \n",
        "print(x%y)\n",
        "print(z%w-y/x*5+5)\n",
        "print(9-x%(2+y))\n",
        "print(z//w)\n",
        "print((2+y)**2)\n",
        "print(w/x*2)"
      ],
      "execution_count": 15,
      "outputs": [
        {
          "output_type": "stream",
          "name": "stdout",
          "text": [
            "-0.6666666666666666\n",
            "-1.1666666666666667\n",
            "1.3333333333333335\n",
            "14\n",
            "-1\n",
            "16.5\n",
            "9\n",
            "-2\n",
            "1\n",
            "7.0\n"
          ]
        }
      ]
    }
  ]
}