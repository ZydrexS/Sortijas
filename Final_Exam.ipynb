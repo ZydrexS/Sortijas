{
  "nbformat": 4,
  "nbformat_minor": 0,
  "metadata": {
    "colab": {
      "name": "Final Exam.ipynb",
      "provenance": [],
      "authorship_tag": "ABX9TyPuXhWR24qzFvXzAGPVvZ9f",
      "include_colab_link": true
    },
    "kernelspec": {
      "name": "python3",
      "display_name": "Python 3"
    },
    "language_info": {
      "name": "python"
    }
  },
  "cells": [
    {
      "cell_type": "markdown",
      "metadata": {
        "id": "view-in-github",
        "colab_type": "text"
      },
      "source": [
        "<a href=\"https://colab.research.google.com/github/ZydrexS/Sortijas/blob/main/Final_Exam.ipynb\" target=\"_parent\"><img src=\"https://colab.research.google.com/assets/colab-badge.svg\" alt=\"Open In Colab\"/></a>"
      ]
    },
    {
      "cell_type": "markdown",
      "source": [
        "#Problem Statement 1"
      ],
      "metadata": {
        "id": "Jb-79bS7vOJ2"
      }
    },
    {
      "cell_type": "code",
      "source": [
        "#Create a Python program that will produce an output of sum \n",
        "#of 10 numbers less than 5 using FOR LOOP statement.\n",
        "\n",
        "sum=0\n",
        "num=[-40,-35,-30,-25,-20,-15,-10,-5,0,5]\n",
        "\n",
        "for x in num:\n",
        "  print (x)\n",
        "  sum=sum+x\n",
        "print(\"The sum total of 10 numbers less than 5 is\", sum)\n",
        "\n"
      ],
      "metadata": {
        "colab": {
          "base_uri": "https://localhost:8080/"
        },
        "id": "7fa3HY0nvod1",
        "outputId": "0efcd1d3-f741-47a8-9ade-3ac56c4f9b3d"
      },
      "execution_count": 8,
      "outputs": [
        {
          "output_type": "stream",
          "name": "stdout",
          "text": [
            "-40\n",
            "-35\n",
            "-30\n",
            "-25\n",
            "-20\n",
            "-15\n",
            "-10\n",
            "-5\n",
            "0\n",
            "5\n",
            "The sum total of 10 numbers less than 5 is -175\n"
          ]
        }
      ]
    },
    {
      "cell_type": "markdown",
      "source": [
        "#Problem Statement 2"
      ],
      "metadata": {
        "id": "e8zUYmm0xQd0"
      }
    },
    {
      "cell_type": "code",
      "source": [
        "#Create a Python program that will produce accept five numbers and determine \n",
        "#the sum of first and last number among the five numbers entered using WHILE LOOP\n",
        "\n",
        "a=int(input())\n",
        "b=a+45\n",
        "c=a+38\n",
        "d=a\n",
        "\n",
        "while a<b:\n",
        " print(a)\n",
        " a+=17\n",
        "\n",
        "print(\"The sum of first and last number is \", g+h)"
      ],
      "metadata": {
        "colab": {
          "base_uri": "https://localhost:8080/"
        },
        "id": "PW4VvPbZxTfi",
        "outputId": "749ba9df-04db-4de6-cca9-35ceb46829bd"
      },
      "execution_count": 20,
      "outputs": [
        {
          "output_type": "stream",
          "name": "stdout",
          "text": [
            "5\n",
            "5\n",
            "22\n",
            "39\n",
            "The sum of first and last number is  38\n"
          ]
        }
      ]
    },
    {
      "cell_type": "markdown",
      "source": [
        "#Problem Statement 3"
      ],
      "metadata": {
        "id": "7gxYzsXpyOIy"
      }
    },
    {
      "cell_type": "code",
      "source": [
        "#Create a Python program to calculate student grades. It accepts a numerical grade \n",
        "#as input and it will display the character grade as output based on the given scale:\n",
        "\n",
        "Grades=int(input(\"What are your grades:\"))\n",
        "if Grades>=90:\n",
        "  print(\"A\")\n",
        "\n",
        "elif 80<=Grades<=89:\n",
        "  print(\"B\")\n",
        "\n",
        "elif 70<=Grades<=79:\n",
        "  print(\"C\")\n",
        "\n",
        "elif 60<=Grades<=69:\n",
        "  print(\"D\")\n",
        "\n",
        "else:\n",
        "  print(\"F\")"
      ],
      "metadata": {
        "colab": {
          "base_uri": "https://localhost:8080/"
        },
        "id": "11XbMQW8yQTC",
        "outputId": "aabf88b7-c3d4-492b-cf4f-7197be37812a"
      },
      "execution_count": 28,
      "outputs": [
        {
          "output_type": "stream",
          "name": "stdout",
          "text": [
            "What are your grades:89\n",
            "B\n"
          ]
        }
      ]
    }
  ]
}